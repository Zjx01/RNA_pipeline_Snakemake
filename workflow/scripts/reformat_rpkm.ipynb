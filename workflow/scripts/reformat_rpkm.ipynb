{
 "cells": [
  {
   "cell_type": "code",
   "execution_count": 1,
   "metadata": {},
   "outputs": [],
   "source": [
    "import pandas as pd\n",
    "import numpy as np \n",
    "import os"
   ]
  },
  {
   "cell_type": "markdown",
   "metadata": {},
   "source": [
    "#### If you are using vamb version lower than < 4.0 >, the rownames of the vamb is just the headers of sequences in the fasta files \n",
    " - https://github.com/RasmussenLab/vamb/issues/172"
   ]
  },
  {
   "cell_type": "code",
   "execution_count": 65,
   "metadata": {},
   "outputs": [],
   "source": [
    "vamb_path=\"/lustre/home/zhaoj11/RNA_pipeline_Snakemake/results/vamb\"\n",
    "rpkm_path=\"/lustre/home/zhaoj11/RNA_pipeline_Snakemake/results/rpkm\"\n",
    "\n",
    "contigs_name_path = \"/lustre/home/zhaoj11/RNA_pipeline_Snakemake/results/filtered_contigs/length1500up.all_contigs.sorted.fa\"\n",
    "genes_name_path = \"/lustre/home/zhaoj11/RNA_pipeline_Snakemake/results/prodigal/length1500up/length100up.contig.genes.fna\"\n",
    "contigs_rpkm_path = os.path.join(rpkm_path,'contigs/contigs_rpkm.csv')\n",
    "genes_rpkm_path = os.path.join(rpkm_path,'genes/genes_rpkm.csv')\n"
   ]
  },
  {
   "cell_type": "code",
   "execution_count": 66,
   "metadata": {},
   "outputs": [],
   "source": [
    "contigs_length_path = os.path.join(rpkm_path,'contigs/contigs_lengths.csv')\n",
    "genes_length_path =os.path.join(rpkm_path,'genes/gene_lengths.csv')"
   ]
  },
  {
   "cell_type": "code",
   "execution_count": 67,
   "metadata": {},
   "outputs": [],
   "source": [
    "contigs_rpkm=pd.read_csv(contigs_rpkm_path,header=None)\n",
    "genes_rpkm=pd.read_csv(genes_rpkm_path,header=None)\n",
    "\n",
    "\n",
    "contigs_length=pd.read_csv(contigs_length_path,header=None)\n",
    "genes_length=pd.read_csv(genes_length_path,header=None)"
   ]
  },
  {
   "cell_type": "code",
   "execution_count": 68,
   "metadata": {},
   "outputs": [],
   "source": [
    "def get_fasta_header(file):\n",
    "    '''\n",
    "    the headers will be the rownames of the rpkm table\n",
    "    '''\n",
    "    headers=[]\n",
    "    with open(file,'r') as fasta_file:\n",
    "        for line in fasta_file:\n",
    "            if line.startswith('>'):\n",
    "                header = line[1:].strip()\n",
    "                headers.append(header)\n",
    "    return headers\n"
   ]
  },
  {
   "cell_type": "code",
   "execution_count": 69,
   "metadata": {},
   "outputs": [],
   "source": [
    "contigs_rowname = get_fasta_header(contigs_name_path)\n",
    "genes_rowname  = get_fasta_header(genes_name_path)"
   ]
  },
  {
   "cell_type": "code",
   "execution_count": 70,
   "metadata": {},
   "outputs": [],
   "source": [
    "if contigs_rpkm.shape[0]==len(contigs_rowname):\n",
    "    contigs_rpkm.index=contigs_rowname\n",
    "else:\n",
    "    raise ValueError(\"the contigs of the rpkm table and the contigs name list does not match\")\n",
    "if contigs_length.shape[0]==len(contigs_rowname):\n",
    "    contigs_length.index = contigs_rowname\n",
    "else:\n",
    "    raise ValueError(\"the contigs of the rpkm table and the contigs name list does not match\")\n"
   ]
  },
  {
   "cell_type": "code",
   "execution_count": 71,
   "metadata": {},
   "outputs": [],
   "source": [
    "if genes_rpkm.shape[0]==len(genes_rowname):\n",
    "    genes_rpkm.index=genes_rowname\n",
    "else:\n",
    "    raise ValueError(\"the gene of the rpkm table and the gene name list does not match\")\n",
    "\n",
    "if genes_length.shape[0]==len(genes_rowname):\n",
    "    genes_length.index=genes_rowname\n",
    "else:\n",
    "    raise ValueError(\"the gene of the rpkm table and the gene name list does not match\")"
   ]
  },
  {
   "cell_type": "code",
   "execution_count": 72,
   "metadata": {},
   "outputs": [],
   "source": [
    "contigs_sample_names = os.path.join(vamb_path,'contigs/contigs_sample_names.txt')\n",
    "genes_sample_names = os.path.join(vamb_path,'genes/genes_sample_names.txt')"
   ]
  },
  {
   "cell_type": "code",
   "execution_count": 73,
   "metadata": {},
   "outputs": [],
   "source": [
    "contigs_colname=pd.read_csv(contigs_sample_names,header=None)\n",
    "contigs_rpkm.columns=contigs_colname[0]\n",
    "contigs_rpkm.to_csv(os.path.join(rpkm_path,'contigs/formated_contigs_rpkm.csv'))"
   ]
  },
  {
   "cell_type": "code",
   "execution_count": 74,
   "metadata": {},
   "outputs": [],
   "source": [
    "genes_colname=pd.read_csv(genes_sample_names,header=None)\n",
    "genes_rpkm.columns=genes_colname[0]\n",
    "genes_rpkm.to_csv(os.path.join(rpkm_path,'genes/formated_genes_rpkm.csv'))"
   ]
  },
  {
   "cell_type": "code",
   "execution_count": null,
   "metadata": {},
   "outputs": [],
   "source": [
    "genes_length.columns=['gene_length']\n",
    "genes_length.to_csv(os.path.join(rpkm_path,'genes/formated_genes_length.csv'))\n",
    "contigs_length.columns=['contig_length']\n",
    "contigs_length.to_csv(os.path.join(rpkm_path,'contigs/formated_contigs_length.csv'))"
   ]
  },
  {
   "cell_type": "code",
   "execution_count": 77,
   "metadata": {},
   "outputs": [
    {
     "data": {
      "text/html": [
       "<div>\n",
       "<style scoped>\n",
       "    .dataframe tbody tr th:only-of-type {\n",
       "        vertical-align: middle;\n",
       "    }\n",
       "\n",
       "    .dataframe tbody tr th {\n",
       "        vertical-align: top;\n",
       "    }\n",
       "\n",
       "    .dataframe thead th {\n",
       "        text-align: right;\n",
       "    }\n",
       "</style>\n",
       "<table border=\"1\" class=\"dataframe\">\n",
       "  <thead>\n",
       "    <tr style=\"text-align: right;\">\n",
       "      <th></th>\n",
       "      <th>contig_length</th>\n",
       "    </tr>\n",
       "  </thead>\n",
       "  <tbody>\n",
       "    <tr>\n",
       "      <th>MV1D1011883Ck141_1011</th>\n",
       "      <td>7656.0</td>\n",
       "    </tr>\n",
       "    <tr>\n",
       "      <th>MV1D1011883Ck141_1015</th>\n",
       "      <td>1923.0</td>\n",
       "    </tr>\n",
       "    <tr>\n",
       "      <th>MV1D1011883Ck141_1018</th>\n",
       "      <td>4439.0</td>\n",
       "    </tr>\n",
       "    <tr>\n",
       "      <th>MV1D1011883Ck141_1022</th>\n",
       "      <td>25341.0</td>\n",
       "    </tr>\n",
       "    <tr>\n",
       "      <th>MV1D1011883Ck141_1026</th>\n",
       "      <td>24300.0</td>\n",
       "    </tr>\n",
       "    <tr>\n",
       "      <th>...</th>\n",
       "      <td>...</td>\n",
       "    </tr>\n",
       "    <tr>\n",
       "      <th>MV1D1968097Ck141_882</th>\n",
       "      <td>1843.0</td>\n",
       "    </tr>\n",
       "    <tr>\n",
       "      <th>MV1D1968097Ck141_89</th>\n",
       "      <td>1505.0</td>\n",
       "    </tr>\n",
       "    <tr>\n",
       "      <th>MV1D1968097Ck141_927</th>\n",
       "      <td>1703.0</td>\n",
       "    </tr>\n",
       "    <tr>\n",
       "      <th>MV1D1968097Ck141_996</th>\n",
       "      <td>2657.0</td>\n",
       "    </tr>\n",
       "    <tr>\n",
       "      <th>MV1D1968097Ck141_998</th>\n",
       "      <td>3981.0</td>\n",
       "    </tr>\n",
       "  </tbody>\n",
       "</table>\n",
       "<p>57472 rows × 1 columns</p>\n",
       "</div>"
      ],
      "text/plain": [
       "                       contig_length\n",
       "MV1D1011883Ck141_1011         7656.0\n",
       "MV1D1011883Ck141_1015         1923.0\n",
       "MV1D1011883Ck141_1018         4439.0\n",
       "MV1D1011883Ck141_1022        25341.0\n",
       "MV1D1011883Ck141_1026        24300.0\n",
       "...                              ...\n",
       "MV1D1968097Ck141_882          1843.0\n",
       "MV1D1968097Ck141_89           1505.0\n",
       "MV1D1968097Ck141_927          1703.0\n",
       "MV1D1968097Ck141_996          2657.0\n",
       "MV1D1968097Ck141_998          3981.0\n",
       "\n",
       "[57472 rows x 1 columns]"
      ]
     },
     "execution_count": 77,
     "metadata": {},
     "output_type": "execute_result"
    }
   ],
   "source": [
    "contigs_length"
   ]
  },
  {
   "cell_type": "markdown",
   "metadata": {},
   "source": [
    "### using the linux command below to get the sample names - contigs_sample_names | genes_sample_names"
   ]
  },
  {
   "cell_type": "code",
   "execution_count": null,
   "metadata": {},
   "outputs": [],
   "source": [
    "# first you need to change to the vamb contigs and vamb genes directory to perform the follow task"
   ]
  },
  {
   "cell_type": "code",
   "execution_count": null,
   "metadata": {},
   "outputs": [
    {
     "name": "stdout",
     "output_type": "stream",
     "text": [
      "2191.11s - pydevd: Sending message related to process being replaced timed-out after 5 seconds\n"
     ]
    }
   ],
   "source": [
    "！grep \"results/minimap2/contig_bam/*\" log.txt | cut -d'/' -f4 | cut -d'.' -f1 | awk '!seen[$0]++' > contigs_sample_names.txt"
   ]
  },
  {
   "cell_type": "code",
   "execution_count": null,
   "metadata": {},
   "outputs": [],
   "source": [
    "! grep \"results/minimap2/gene_bam/*\" log.txt | cut -d'/' -f4 | cut -d'.' -f1 | awk '!seen[$0]++' > gene_sample_names.txt"
   ]
  }
 ],
 "metadata": {
  "kernelspec": {
   "display_name": "Python 3",
   "language": "python",
   "name": "python3"
  },
  "language_info": {
   "codemirror_mode": {
    "name": "ipython",
    "version": 3
   },
   "file_extension": ".py",
   "mimetype": "text/x-python",
   "name": "python",
   "nbconvert_exporter": "python",
   "pygments_lexer": "ipython3",
   "version": "3.12.2"
  }
 },
 "nbformat": 4,
 "nbformat_minor": 2
}
